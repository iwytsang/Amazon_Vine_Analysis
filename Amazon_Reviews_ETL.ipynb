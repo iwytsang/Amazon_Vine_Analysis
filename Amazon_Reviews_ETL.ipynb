{
  "cells": [
    {
      "cell_type": "code",
      "execution_count": null,
      "metadata": {
        "colab": {
          "base_uri": "https://localhost:8080/"
        },
        "id": "V58rxea0HqSa",
        "outputId": "e3135d72-71ac-4a56-e9e8-f7b9dfbf59bd"
      },
      "outputs": [
        {
          "output_type": "stream",
          "name": "stdout",
          "text": [
            "\r0% [Working]\r            \rGet:1 http://security.ubuntu.com/ubuntu bionic-security InRelease [88.7 kB]\n",
            "\r0% [Waiting for headers] [1 InRelease 14.2 kB/88.7 kB 16%] [Connected to cloud.\r                                                                               \rHit:2 http://archive.ubuntu.com/ubuntu bionic InRelease\n",
            "\r0% [Waiting for headers] [1 InRelease 86.6 kB/88.7 kB 98%] [Connected to cloud.\r                                                                               \rGet:3 http://archive.ubuntu.com/ubuntu bionic-updates InRelease [88.7 kB]\n",
            "\r                                                                               \rGet:4 https://cloud.r-project.org/bin/linux/ubuntu bionic-cran40/ InRelease [3,626 B]\n",
            "\r0% [3 InRelease 15.6 kB/88.7 kB 18%] [1 InRelease 88.7 kB/88.7 kB 100%] [Waitin\r0% [3 InRelease 18.5 kB/88.7 kB 21%] [Waiting for headers] [Connecting to ppa.l\r0% [2 InRelease gpgv 242 kB] [3 InRelease 18.5 kB/88.7 kB 21%] [Waiting for hea\r0% [2 InRelease gpgv 242 kB] [Waiting for headers] [Waiting for headers] [Conne\r                                                                               \rGet:5 http://archive.ubuntu.com/ubuntu bionic-backports InRelease [83.3 kB]\n",
            "\r0% [2 InRelease gpgv 242 kB] [5 InRelease 8,394 B/83.3 kB 10%] [Waiting for hea\r0% [2 InRelease gpgv 242 kB] [Waiting for headers] [Connecting to ppa.launchpad\r                                                                               \rIgn:6 https://developer.download.nvidia.com/compute/machine-learning/repos/ubuntu1804/x86_64  InRelease\n",
            "\r                                                                               \r0% [2 InRelease gpgv 242 kB] [Waiting for headers]\r                                                  \rHit:7 https://developer.download.nvidia.com/compute/cuda/repos/ubuntu1804/x86_64  InRelease\n",
            "\r0% [2 InRelease gpgv 242 kB] [Waiting for headers]\r                                                  \rHit:8 https://developer.download.nvidia.com/compute/machine-learning/repos/ubuntu1804/x86_64  Release\n",
            "Get:9 http://ppa.launchpad.net/c2d4u.team/c2d4u4.0+/ubuntu bionic InRelease [15.9 kB]\n",
            "Hit:10 http://ppa.launchpad.net/cran/libgit2/ubuntu bionic InRelease\n",
            "Hit:11 http://ppa.launchpad.net/deadsnakes/ppa/ubuntu bionic InRelease\n",
            "Hit:12 http://ppa.launchpad.net/graphics-drivers/ppa/ubuntu bionic InRelease\n",
            "Get:14 http://ppa.launchpad.net/c2d4u.team/c2d4u4.0+/ubuntu bionic/main Sources [2,237 kB]\n",
            "Get:15 http://ppa.launchpad.net/c2d4u.team/c2d4u4.0+/ubuntu bionic/main amd64 Packages [1,144 kB]\n",
            "Fetched 3,662 kB in 3s (1,360 kB/s)\n",
            "Reading package lists... Done\n"
          ]
        }
      ],
      "source": [
        "import os\n",
        "# Find the latest version of spark 3.2 from http://www.apache.org/dist/spark/ and enter as the spark version\n",
        "# For example:\n",
        "# spark_version = 'spark-3.2.3'\n",
        "spark_version = 'spark-3.2.3'\n",
        "os.environ['SPARK_VERSION']=spark_version\n",
        "\n",
        "# Install Spark and Java\n",
        "!apt-get update\n",
        "!apt-get install openjdk-11-jdk-headless -qq > /dev/null\n",
        "!wget -q http://www.apache.org/dist/spark/$SPARK_VERSION/$SPARK_VERSION-bin-hadoop2.7.tgz\n",
        "!tar xf $SPARK_VERSION-bin-hadoop2.7.tgz\n",
        "!pip install -q findspark\n",
        "\n",
        "# Set Environment Variables\n",
        "import os\n",
        "os.environ[\"JAVA_HOME\"] = \"/usr/lib/jvm/java-11-openjdk-amd64\"\n",
        "os.environ[\"SPARK_HOME\"] = f\"/content/{spark_version}-bin-hadoop2.7\"\n",
        "\n",
        "# Start a SparkSession\n",
        "import findspark\n",
        "findspark.init()"
      ]
    },
    {
      "cell_type": "code",
      "execution_count": null,
      "metadata": {
        "colab": {
          "base_uri": "https://localhost:8080/"
        },
        "id": "_xKwTpATHqSe",
        "outputId": "78fe15bf-928c-4f6f-b493-40cc02606272"
      },
      "outputs": [
        {
          "output_type": "stream",
          "name": "stdout",
          "text": [
            "--2023-01-02 03:47:25--  https://jdbc.postgresql.org/download/postgresql-42.2.16.jar\n",
            "Resolving jdbc.postgresql.org (jdbc.postgresql.org)... 72.32.157.228, 2001:4800:3e1:1::228\n",
            "Connecting to jdbc.postgresql.org (jdbc.postgresql.org)|72.32.157.228|:443... connected.\n",
            "HTTP request sent, awaiting response... 200 OK\n",
            "Length: 1002883 (979K) [application/java-archive]\n",
            "Saving to: ‘postgresql-42.2.16.jar’\n",
            "\n",
            "postgresql-42.2.16. 100%[===================>] 979.38K  5.53MB/s    in 0.2s    \n",
            "\n",
            "2023-01-02 03:47:26 (5.53 MB/s) - ‘postgresql-42.2.16.jar’ saved [1002883/1002883]\n",
            "\n"
          ]
        }
      ],
      "source": [
        "# Download the Postgres driver that will allow Spark to interact with Postgres.\n",
        "!wget https://jdbc.postgresql.org/download/postgresql-42.2.16.jar"
      ]
    },
    {
      "cell_type": "code",
      "execution_count": null,
      "metadata": {
        "id": "MMqDAjVS0KN9"
      },
      "outputs": [],
      "source": [
        "from pyspark.sql import SparkSession\n",
        "spark = SparkSession.builder.appName(\"M17-Amazon-Challenge\").config(\"spark.driver.extraClassPath\",\"/content/postgresql-42.2.16.jar\").getOrCreate()"
      ]
    },
    {
      "cell_type": "markdown",
      "metadata": {
        "id": "cyBsySGuY-9V"
      },
      "source": [
        "### Load Amazon Data into Spark DataFrame"
      ]
    },
    {
      "cell_type": "code",
      "execution_count": null,
      "metadata": {
        "id": "CtCmBhQJY-9Z",
        "colab": {
          "base_uri": "https://localhost:8080/"
        },
        "outputId": "f3a4b983-4f86-4189-9706-f34a10cf0d91"
      },
      "outputs": [
        {
          "output_type": "stream",
          "name": "stdout",
          "text": [
            "+-----------+-----------+--------------+----------+--------------+--------------------+----------------+-----------+-------------+-----------+----+-----------------+--------------------+--------------------+-----------+\n",
            "|marketplace|customer_id|     review_id|product_id|product_parent|       product_title|product_category|star_rating|helpful_votes|total_votes|vine|verified_purchase|     review_headline|         review_body|review_date|\n",
            "+-----------+-----------+--------------+----------+--------------+--------------------+----------------+-----------+-------------+-----------+----+-----------------+--------------------+--------------------+-----------+\n",
            "|         US|   33670092|R1UUISQ1GKOJTI|B00EE62UAE|     583436067|Trademark Home Po...|            Home|          1|            0|          0|   N|                Y|                 Run|Don't buy it clap...| 2015-08-31|\n",
            "|         US|   13726692|R1HOJ9WE8VCVOD|B001APXO5C|     465035091|O2-Cool 10-Inch P...|            Home|          5|            9|          9|   N|                Y|Love it, really c...|Love this ,I boug...| 2015-08-31|\n",
            "|         US|   50131396| RDNGVXMWQN2TN|B002HFDLCK|     136507891|Hoover Vacuum Cle...|            Home|          5|            0|          0|   N|                Y|          Five Stars|Nice style, color...| 2015-08-31|\n",
            "|         US|   16046884|R3OM9COQMVTDJ2|B00PL9EFPQ|     631238459|Banksy Pile of Ri...|            Home|          2|            0|          0|   N|                Y|Love Banksy's wor...|Meeeh. Love Banks...| 2015-08-31|\n",
            "|         US|   11417282|R3OFUQVR4Y80Q9|B00B5TPVQS|     190431573|SkyScan Atomic Wa...|            Home|          4|            0|          0|   N|                N|A silent second h...|Review by John Cr...| 2015-08-31|\n",
            "|         US|   48013430|R2GD25SBBGRKPO|B00NQDGHDC|     124050883|Mellanni Bed Shee...|            Home|          5|            0|          0|   N|                Y|I am very pleased...|I am very pleased...| 2015-08-31|\n",
            "|         US|    7341516|R3RRSLYKVWH9WB|B00I3BYEXM|     933053612|Hippie Hobo Sling...|            Home|          5|            0|          0|   N|                Y|          Five Stars|LOVE THIS SO VERY...| 2015-08-31|\n",
            "|         US|   20696954|R2HMFAGJJU6NT3|B008QZD7RY|      77515396|OluKai Hokua Sand...|            Home|          5|            0|          0|   N|                Y|          Five Stars|           Love them| 2015-08-31|\n",
            "|         US|   28241302|R2QDRZATHBY4GY|B00TQ6MXE0|     267158600|Melrose Ivory Ant...|            Home|          1|            0|          0|   N|                Y|Not the color I e...|This is a nice sh...| 2015-08-31|\n",
            "|         US|   45444347|R107946YZK57Q2|B004O39RJ4|     473994651|Home Basics 6-Pie...|            Home|          2|            0|          0|   N|                Y|Two mugs came chi...|Two mugs came chi...| 2015-08-31|\n",
            "|         US|   15080335|R31EK6FUI5YAL1|B003LZ09C0|     945333576|La Crosse Technol...|            Home|          5|            0|          0|   N|                Y|          Five Stars|Works great, it a...| 2015-08-31|\n",
            "|         US|   12081067|R2PCO0R2FKDQLD|B00I56KQV4|     383995956|Cozy Beddings 3-P...|            Home|          5|            0|          0|   N|                Y|          Five Stars|Exactly as I expe...| 2015-08-31|\n",
            "|         US|   26317120|R3HR2Y7RR8NWL0|B00GS6ENAS|     255999883|Tools of the Trad...|            Home|          4|            0|          0|   N|                Y|          Four Stars|    met expectations| 2015-08-31|\n",
            "|         US|   37523392|R2D2NATNTV6VBD|B00S9X17SY|     142926812|Clara Clark Premi...|            Home|          3|            0|          0|   N|                Y|        Pretty color|Very silky feelin...| 2015-08-31|\n",
            "|         US|   36990227| RKB0AGB0GJ693|B001R1RXUG|     237680897|Honeywell HT-908 ...|            Home|          5|            0|          0|   N|                Y|          Five Stars|Works great for t...| 2015-08-31|\n",
            "|         US|    8273344| RN6VOEZIS9SRX|B008T19WSS|     395315543|2 pcs .925 Sterli...|            Home|          5|            0|          0|   N|                Y|          Five Stars|          love these| 2015-08-31|\n",
            "|         US|   45448526|R31I8XK53JBAQ2|B011A4X754|     751900773|Artficial Pachyve...|            Home|          4|            0|          0|   N|                Y|          Four Stars|Good length. Very...| 2015-08-31|\n",
            "|         US|   28088591|R2R2Y989GKB6QH|B00DDIKBQO|     764331420|Pinzon Blackout C...|            Home|          5|            0|          0|   N|                Y|          Five Stars|        Works great!| 2015-08-31|\n",
            "|         US|   20276397|R12WZKURAV2VEY|B00F3T165Q|     962537263|Rit Dye Liquid Dy...|            Home|          5|            0|          0|   N|                Y|            Love it!|Been using this f...| 2015-08-31|\n",
            "|         US|     123327| RX2EMR0I821HW|B006C6FC6S|     279696452|The Original Slee...|            Home|          2|            0|          0|   N|                Y|           Two Stars|Ehh. Not sure why...| 2015-08-31|\n",
            "+-----------+-----------+--------------+----------+--------------+--------------------+----------------+-----------+-------------+-----------+----+-----------------+--------------------+--------------------+-----------+\n",
            "only showing top 20 rows\n",
            "\n"
          ]
        }
      ],
      "source": [
        "from pyspark import SparkFiles\n",
        "url = \"https://s3.amazonaws.com/amazon-reviews-pds/tsv/amazon_reviews_us_Home_v1_00.tsv.gz\"\n",
        "spark.sparkContext.addFile(url)\n",
        "df = spark.read.option(\"encoding\", \"UTF-8\").csv(SparkFiles.get(\"\"), sep=\"\\t\", header=True, inferSchema=True)\n",
        "df.show()"
      ]
    },
    {
      "cell_type": "markdown",
      "metadata": {
        "id": "2yUSe55VY-9t"
      },
      "source": [
        "### Create DataFrames to match tables"
      ]
    },
    {
      "cell_type": "code",
      "execution_count": null,
      "metadata": {
        "id": "C8REmY1aY-9u",
        "colab": {
          "base_uri": "https://localhost:8080/"
        },
        "outputId": "9e5c8a18-ba3b-4ff4-fdfa-dcdba6e38fe5"
      },
      "outputs": [
        {
          "output_type": "stream",
          "name": "stdout",
          "text": [
            "+-----------+-----------+--------------+----------+--------------+--------------------+----------------+-----------+-------------+-----------+----+-----------------+--------------------+--------------------+-----------+\n",
            "|marketplace|customer_id|     review_id|product_id|product_parent|       product_title|product_category|star_rating|helpful_votes|total_votes|vine|verified_purchase|     review_headline|         review_body|review_date|\n",
            "+-----------+-----------+--------------+----------+--------------+--------------------+----------------+-----------+-------------+-----------+----+-----------------+--------------------+--------------------+-----------+\n",
            "|         US|   33670092|R1UUISQ1GKOJTI|B00EE62UAE|     583436067|Trademark Home Po...|            Home|          1|            0|          0|   N|                Y|                 Run|Don't buy it clap...| 2015-08-31|\n",
            "|         US|   13726692|R1HOJ9WE8VCVOD|B001APXO5C|     465035091|O2-Cool 10-Inch P...|            Home|          5|            9|          9|   N|                Y|Love it, really c...|Love this ,I boug...| 2015-08-31|\n",
            "|         US|   50131396| RDNGVXMWQN2TN|B002HFDLCK|     136507891|Hoover Vacuum Cle...|            Home|          5|            0|          0|   N|                Y|          Five Stars|Nice style, color...| 2015-08-31|\n",
            "|         US|   16046884|R3OM9COQMVTDJ2|B00PL9EFPQ|     631238459|Banksy Pile of Ri...|            Home|          2|            0|          0|   N|                Y|Love Banksy's wor...|Meeeh. Love Banks...| 2015-08-31|\n",
            "|         US|   11417282|R3OFUQVR4Y80Q9|B00B5TPVQS|     190431573|SkyScan Atomic Wa...|            Home|          4|            0|          0|   N|                N|A silent second h...|Review by John Cr...| 2015-08-31|\n",
            "|         US|   48013430|R2GD25SBBGRKPO|B00NQDGHDC|     124050883|Mellanni Bed Shee...|            Home|          5|            0|          0|   N|                Y|I am very pleased...|I am very pleased...| 2015-08-31|\n",
            "|         US|    7341516|R3RRSLYKVWH9WB|B00I3BYEXM|     933053612|Hippie Hobo Sling...|            Home|          5|            0|          0|   N|                Y|          Five Stars|LOVE THIS SO VERY...| 2015-08-31|\n",
            "|         US|   20696954|R2HMFAGJJU6NT3|B008QZD7RY|      77515396|OluKai Hokua Sand...|            Home|          5|            0|          0|   N|                Y|          Five Stars|           Love them| 2015-08-31|\n",
            "|         US|   28241302|R2QDRZATHBY4GY|B00TQ6MXE0|     267158600|Melrose Ivory Ant...|            Home|          1|            0|          0|   N|                Y|Not the color I e...|This is a nice sh...| 2015-08-31|\n",
            "|         US|   45444347|R107946YZK57Q2|B004O39RJ4|     473994651|Home Basics 6-Pie...|            Home|          2|            0|          0|   N|                Y|Two mugs came chi...|Two mugs came chi...| 2015-08-31|\n",
            "|         US|   15080335|R31EK6FUI5YAL1|B003LZ09C0|     945333576|La Crosse Technol...|            Home|          5|            0|          0|   N|                Y|          Five Stars|Works great, it a...| 2015-08-31|\n",
            "|         US|   12081067|R2PCO0R2FKDQLD|B00I56KQV4|     383995956|Cozy Beddings 3-P...|            Home|          5|            0|          0|   N|                Y|          Five Stars|Exactly as I expe...| 2015-08-31|\n",
            "|         US|   26317120|R3HR2Y7RR8NWL0|B00GS6ENAS|     255999883|Tools of the Trad...|            Home|          4|            0|          0|   N|                Y|          Four Stars|    met expectations| 2015-08-31|\n",
            "|         US|   37523392|R2D2NATNTV6VBD|B00S9X17SY|     142926812|Clara Clark Premi...|            Home|          3|            0|          0|   N|                Y|        Pretty color|Very silky feelin...| 2015-08-31|\n",
            "|         US|   36990227| RKB0AGB0GJ693|B001R1RXUG|     237680897|Honeywell HT-908 ...|            Home|          5|            0|          0|   N|                Y|          Five Stars|Works great for t...| 2015-08-31|\n",
            "|         US|    8273344| RN6VOEZIS9SRX|B008T19WSS|     395315543|2 pcs .925 Sterli...|            Home|          5|            0|          0|   N|                Y|          Five Stars|          love these| 2015-08-31|\n",
            "|         US|   45448526|R31I8XK53JBAQ2|B011A4X754|     751900773|Artficial Pachyve...|            Home|          4|            0|          0|   N|                Y|          Four Stars|Good length. Very...| 2015-08-31|\n",
            "|         US|   28088591|R2R2Y989GKB6QH|B00DDIKBQO|     764331420|Pinzon Blackout C...|            Home|          5|            0|          0|   N|                Y|          Five Stars|        Works great!| 2015-08-31|\n",
            "|         US|   20276397|R12WZKURAV2VEY|B00F3T165Q|     962537263|Rit Dye Liquid Dy...|            Home|          5|            0|          0|   N|                Y|            Love it!|Been using this f...| 2015-08-31|\n",
            "|         US|     123327| RX2EMR0I821HW|B006C6FC6S|     279696452|The Original Slee...|            Home|          2|            0|          0|   N|                Y|           Two Stars|Ehh. Not sure why...| 2015-08-31|\n",
            "+-----------+-----------+--------------+----------+--------------+--------------------+----------------+-----------+-------------+-----------+----+-----------------+--------------------+--------------------+-----------+\n",
            "only showing top 20 rows\n",
            "\n"
          ]
        }
      ],
      "source": [
        "from pyspark.sql.functions import to_date\n",
        "\n",
        "# Read in the Review dataset as a DataFrame\n",
        "df.show()"
      ]
    },
    {
      "cell_type": "code",
      "execution_count": null,
      "metadata": {
        "id": "B0TESUDRY-90",
        "colab": {
          "base_uri": "https://localhost:8080/"
        },
        "outputId": "e7e7259b-7008-46f3-ce0a-a38565e0c574"
      },
      "outputs": [
        {
          "output_type": "stream",
          "name": "stdout",
          "text": [
            "+-----------+--------------+\n",
            "|customer_id|customer_count|\n",
            "+-----------+--------------+\n",
            "|   28241302|             1|\n",
            "|   15991768|             1|\n",
            "|   17067926|             7|\n",
            "|    8905239|             3|\n",
            "|   51794064|             1|\n",
            "|   33132797|             3|\n",
            "|   21325555|             1|\n",
            "|    1574612|             1|\n",
            "|   12819130|             3|\n",
            "|   44224073|             1|\n",
            "|   16679709|             1|\n",
            "|   10742726|             1|\n",
            "|   52391013|             2|\n",
            "|   38209321|            10|\n",
            "|    2545142|             1|\n",
            "|   52918362|             6|\n",
            "|   47663761|             3|\n",
            "|   25031530|            21|\n",
            "|   29476112|             1|\n",
            "|   51496479|             1|\n",
            "+-----------+--------------+\n",
            "only showing top 20 rows\n",
            "\n"
          ]
        }
      ],
      "source": [
        "# Create the customers_table DataFrame\n",
        "customers_df = df.groupby(\"customer_id\").agg({\"product_id\":\"count\"}).withColumnRenamed(\"count(product_id)\", \"customer_count\")\n",
        "customers_df.show()"
      ]
    },
    {
      "cell_type": "code",
      "execution_count": null,
      "metadata": {
        "id": "4FwXA6UvY-96",
        "colab": {
          "base_uri": "https://localhost:8080/"
        },
        "outputId": "0471dbcc-6104-4748-ac7f-c479d82fd7a3"
      },
      "outputs": [
        {
          "output_type": "stream",
          "name": "stdout",
          "text": [
            "+----------+--------------------+\n",
            "|product_id|       product_title|\n",
            "+----------+--------------------+\n",
            "|0123456479|SHINING IMAGE HUG...|\n",
            "|0140715185|Great Expectation...|\n",
            "|0143506110|AFL - Where's My ...|\n",
            "|0307463826|Crochet Lace Inno...|\n",
            "|0307586588|Little Crochet: M...|\n",
            "|0307587142|I Spy DIY Style: ...|\n",
            "|0326592458|2 Spools X 300m G...|\n",
            "|0385344570|Huge & Huggable M...|\n",
            "|0439712599|         Spooky Hour|\n",
            "|0439874734|    Please Play Safe|\n",
            "|0470343834|Beading VISUAL Qu...|\n",
            "|0470343842|Wire Jewelry VISU...|\n",
            "|0471749915|Teach Yourself Vi...|\n",
            "|0486248208|Dover Publication...|\n",
            "|048625531X|Easy Mazes Activi...|\n",
            "|0486284115|Dover Publication...|\n",
            "|0486402029|     Pirates Tattoos|\n",
            "|0486417700|Metallic Foil Ori...|\n",
            "|0486448789|Dover Publication...|\n",
            "|0486461726|Dover Publication...|\n",
            "+----------+--------------------+\n",
            "only showing top 20 rows\n",
            "\n"
          ]
        }
      ],
      "source": [
        "# Create the products_table DataFrame and drop duplicates. \n",
        "products_df = df.select([\"product_id\",\"product_title\"]).drop_duplicates(subset=['product_id'])\n",
        "products_df.show()"
      ]
    },
    {
      "cell_type": "code",
      "execution_count": null,
      "metadata": {
        "id": "MkqyCuNQY-9-",
        "colab": {
          "base_uri": "https://localhost:8080/"
        },
        "outputId": "9270ede0-ff39-403a-dba0-9f42a97631ca"
      },
      "outputs": [
        {
          "output_type": "stream",
          "name": "stdout",
          "text": [
            "+--------------+-----------+----------+--------------+-----------+\n",
            "|     review_id|customer_id|product_id|product_parent|review_date|\n",
            "+--------------+-----------+----------+--------------+-----------+\n",
            "|R1UUISQ1GKOJTI|   33670092|B00EE62UAE|     583436067| 2015-08-31|\n",
            "|R1HOJ9WE8VCVOD|   13726692|B001APXO5C|     465035091| 2015-08-31|\n",
            "| RDNGVXMWQN2TN|   50131396|B002HFDLCK|     136507891| 2015-08-31|\n",
            "|R3OM9COQMVTDJ2|   16046884|B00PL9EFPQ|     631238459| 2015-08-31|\n",
            "|R3OFUQVR4Y80Q9|   11417282|B00B5TPVQS|     190431573| 2015-08-31|\n",
            "|R2GD25SBBGRKPO|   48013430|B00NQDGHDC|     124050883| 2015-08-31|\n",
            "|R3RRSLYKVWH9WB|    7341516|B00I3BYEXM|     933053612| 2015-08-31|\n",
            "|R2HMFAGJJU6NT3|   20696954|B008QZD7RY|      77515396| 2015-08-31|\n",
            "|R2QDRZATHBY4GY|   28241302|B00TQ6MXE0|     267158600| 2015-08-31|\n",
            "|R107946YZK57Q2|   45444347|B004O39RJ4|     473994651| 2015-08-31|\n",
            "|R31EK6FUI5YAL1|   15080335|B003LZ09C0|     945333576| 2015-08-31|\n",
            "|R2PCO0R2FKDQLD|   12081067|B00I56KQV4|     383995956| 2015-08-31|\n",
            "|R3HR2Y7RR8NWL0|   26317120|B00GS6ENAS|     255999883| 2015-08-31|\n",
            "|R2D2NATNTV6VBD|   37523392|B00S9X17SY|     142926812| 2015-08-31|\n",
            "| RKB0AGB0GJ693|   36990227|B001R1RXUG|     237680897| 2015-08-31|\n",
            "| RN6VOEZIS9SRX|    8273344|B008T19WSS|     395315543| 2015-08-31|\n",
            "|R31I8XK53JBAQ2|   45448526|B011A4X754|     751900773| 2015-08-31|\n",
            "|R2R2Y989GKB6QH|   28088591|B00DDIKBQO|     764331420| 2015-08-31|\n",
            "|R12WZKURAV2VEY|   20276397|B00F3T165Q|     962537263| 2015-08-31|\n",
            "| RX2EMR0I821HW|     123327|B006C6FC6S|     279696452| 2015-08-31|\n",
            "+--------------+-----------+----------+--------------+-----------+\n",
            "only showing top 20 rows\n",
            "\n"
          ]
        }
      ],
      "source": [
        "# Create the review_id_table DataFrame. \n",
        "# Convert the 'review_date' column to a date datatype with to_date(\"review_date\", 'yyyy-MM-dd').alias(\"review_date\")\n",
        "review_id_df = df.select([\"review_id\",\"customer_id\",\"product_id\",\"product_parent\", to_date(\"review_date\", 'yyyy-MM-dd').alias(\"review_date\")])\n",
        "review_id_df.show()"
      ]
    },
    {
      "cell_type": "code",
      "execution_count": null,
      "metadata": {
        "id": "lzMmkdKmY--D",
        "colab": {
          "base_uri": "https://localhost:8080/"
        },
        "outputId": "a1ed81ec-17ad-42bb-9182-de7925ecdfa4"
      },
      "outputs": [
        {
          "output_type": "stream",
          "name": "stdout",
          "text": [
            "+--------------+-----------+-------------+-----------+----+-----------------+\n",
            "|     review_id|star_rating|helpful_votes|total_votes|vine|verified_purchase|\n",
            "+--------------+-----------+-------------+-----------+----+-----------------+\n",
            "|R1UUISQ1GKOJTI|          1|            0|          0|   N|                Y|\n",
            "|R1HOJ9WE8VCVOD|          5|            9|          9|   N|                Y|\n",
            "| RDNGVXMWQN2TN|          5|            0|          0|   N|                Y|\n",
            "|R3OM9COQMVTDJ2|          2|            0|          0|   N|                Y|\n",
            "|R3OFUQVR4Y80Q9|          4|            0|          0|   N|                N|\n",
            "|R2GD25SBBGRKPO|          5|            0|          0|   N|                Y|\n",
            "|R3RRSLYKVWH9WB|          5|            0|          0|   N|                Y|\n",
            "|R2HMFAGJJU6NT3|          5|            0|          0|   N|                Y|\n",
            "|R2QDRZATHBY4GY|          1|            0|          0|   N|                Y|\n",
            "|R107946YZK57Q2|          2|            0|          0|   N|                Y|\n",
            "|R31EK6FUI5YAL1|          5|            0|          0|   N|                Y|\n",
            "|R2PCO0R2FKDQLD|          5|            0|          0|   N|                Y|\n",
            "|R3HR2Y7RR8NWL0|          4|            0|          0|   N|                Y|\n",
            "|R2D2NATNTV6VBD|          3|            0|          0|   N|                Y|\n",
            "| RKB0AGB0GJ693|          5|            0|          0|   N|                Y|\n",
            "| RN6VOEZIS9SRX|          5|            0|          0|   N|                Y|\n",
            "|R31I8XK53JBAQ2|          4|            0|          0|   N|                Y|\n",
            "|R2R2Y989GKB6QH|          5|            0|          0|   N|                Y|\n",
            "|R12WZKURAV2VEY|          5|            0|          0|   N|                Y|\n",
            "| RX2EMR0I821HW|          2|            0|          0|   N|                Y|\n",
            "+--------------+-----------+-------------+-----------+----+-----------------+\n",
            "only showing top 20 rows\n",
            "\n"
          ]
        }
      ],
      "source": [
        "# Create the vine_table. DataFrame\n",
        "vine_df = df.select([\"review_id\",\"star_rating\",\"helpful_votes\",\"total_votes\",\"vine\",\"verified_purchase\"])\n",
        "vine_df.show()"
      ]
    },
    {
      "cell_type": "markdown",
      "metadata": {
        "id": "jITZhLkmY--J"
      },
      "source": [
        "### Connect to the AWS RDS instance and write each DataFrame to its table. "
      ]
    },
    {
      "cell_type": "code",
      "execution_count": null,
      "metadata": {
        "id": "7jiUvs1aY--L"
      },
      "outputs": [],
      "source": []
    },
    {
      "cell_type": "code",
      "execution_count": null,
      "metadata": {
        "id": "T2zgZ-aKY--Q"
      },
      "outputs": [],
      "source": [
        "# Write review_id_df to table in RDS\n",
        "review_id_df.write.jdbc(url=jdbc_url, table='review_id_table', mode=mode, properties=config)"
      ]
    },
    {
      "cell_type": "code",
      "execution_count": null,
      "metadata": {
        "id": "1m3yzn-LY--U"
      },
      "outputs": [],
      "source": [
        "# Write products_df to table in RDS\n",
        "# about 3 min\n",
        "products_df.write.jdbc(url=jdbc_url, table='products_table', mode=mode, properties=config)"
      ]
    },
    {
      "cell_type": "code",
      "execution_count": null,
      "metadata": {
        "id": "KbXri15fY--Z"
      },
      "outputs": [],
      "source": [
        "# Write customers_df to table in RDS\n",
        "# 5 min 14 s\n",
        "customers_df.write.jdbc(url=jdbc_url, table='customers_table', mode=mode, properties=config)"
      ]
    },
    {
      "cell_type": "code",
      "execution_count": null,
      "metadata": {
        "id": "XdQknSHLY--e"
      },
      "outputs": [],
      "source": [
        "# Write vine_df to table in RDS\n",
        "# 11 minutes\n",
        "vine_df.write.jdbc(url=jdbc_url, table='vine_table', mode=mode, properties=config)"
      ]
    },
    {
      "cell_type": "code",
      "execution_count": null,
      "metadata": {
        "id": "Exuo6ebUsCqW"
      },
      "outputs": [],
      "source": []
    }
  ],
  "metadata": {
    "colab": {
      "provenance": []
    },
    "kernelspec": {
      "display_name": "Python 3 (ipykernel)",
      "language": "python",
      "name": "python3"
    },
    "language_info": {
      "codemirror_mode": {
        "name": "ipython",
        "version": 3
      },
      "file_extension": ".py",
      "mimetype": "text/x-python",
      "name": "python",
      "nbconvert_exporter": "python",
      "pygments_lexer": "ipython3",
      "version": "3.8.13"
    },
    "nteract": {
      "version": "0.12.3"
    }
  },
  "nbformat": 4,
  "nbformat_minor": 0
}