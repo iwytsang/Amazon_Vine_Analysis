{
  "cells": [
    {
      "cell_type": "code",
      "execution_count": 2,
      "metadata": {
        "colab": {
          "base_uri": "https://localhost:8080/"
        },
        "id": "Yrad2X2d0A9M",
        "outputId": "300fceee-f3ef-476f-b89c-1859b7ae5b40"
      },
      "outputs": [
        {
          "name": "stdout",
          "output_type": "stream",
          "text": [
            "\r0% [Working]\r            \rHit:1 http://archive.ubuntu.com/ubuntu bionic InRelease\n",
            "\r            \rGet:2 http://security.ubuntu.com/ubuntu bionic-security InRelease [88.7 kB]\n",
            "\r0% [Waiting for headers] [2 InRelease 17.1 kB/88.7 kB 19%] [Connected to cloud.\r                                                                               \rGet:3 http://archive.ubuntu.com/ubuntu bionic-updates InRelease [88.7 kB]\n",
            "\r                                                                               \rGet:4 https://cloud.r-project.org/bin/linux/ubuntu bionic-cran40/ InRelease [3,626 B]\n",
            "Get:5 http://archive.ubuntu.com/ubuntu bionic-backports InRelease [83.3 kB]\n",
            "Get:6 http://ppa.launchpad.net/c2d4u.team/c2d4u4.0+/ubuntu bionic InRelease [15.9 kB]\n",
            "Ign:7 https://developer.download.nvidia.com/compute/machine-learning/repos/ubuntu1804/x86_64  InRelease\n",
            "Hit:8 https://developer.download.nvidia.com/compute/cuda/repos/ubuntu1804/x86_64  InRelease\n",
            "Hit:9 https://developer.download.nvidia.com/compute/machine-learning/repos/ubuntu1804/x86_64  Release\n",
            "Hit:10 http://ppa.launchpad.net/cran/libgit2/ubuntu bionic InRelease\n",
            "Hit:11 http://ppa.launchpad.net/deadsnakes/ppa/ubuntu bionic InRelease\n",
            "Hit:12 http://ppa.launchpad.net/graphics-drivers/ppa/ubuntu bionic InRelease\n",
            "Get:13 http://archive.ubuntu.com/ubuntu bionic-updates/main amd64 Packages [3,525 kB]\n",
            "Get:14 http://archive.ubuntu.com/ubuntu bionic-updates/universe amd64 Packages [2,344 kB]\n",
            "Get:15 http://security.ubuntu.com/ubuntu bionic-security/main amd64 Packages [3,100 kB]\n",
            "Get:16 http://security.ubuntu.com/ubuntu bionic-security/universe amd64 Packages [1,568 kB]\n",
            "Get:18 http://ppa.launchpad.net/c2d4u.team/c2d4u4.0+/ubuntu bionic/main Sources [2,237 kB]\n",
            "Get:19 http://ppa.launchpad.net/c2d4u.team/c2d4u4.0+/ubuntu bionic/main amd64 Packages [1,144 kB]\n",
            "Fetched 14.2 MB in 4s (3,632 kB/s)\n",
            "Reading package lists... Done\n"
          ]
        }
      ],
      "source": [
        "import os\n",
        "# Find the latest version of spark 3.2 from http://www.apache.org/dist/spark/ and enter as the spark version\n",
        "# For example:\n",
        "# spark_version = 'spark-3.2.3'\n",
        "spark_version = 'spark-3.2.3'\n",
        "os.environ['SPARK_VERSION']=spark_version\n",
        "\n",
        "# Install Spark and Java\n",
        "!apt-get update\n",
        "!apt-get install openjdk-11-jdk-headless -qq > /dev/null\n",
        "!wget -q http://www.apache.org/dist/spark/$SPARK_VERSION/$SPARK_VERSION-bin-hadoop2.7.tgz\n",
        "!tar xf $SPARK_VERSION-bin-hadoop2.7.tgz\n",
        "!pip install -q findspark\n",
        "\n",
        "# Set Environment Variables\n",
        "import os\n",
        "os.environ[\"JAVA_HOME\"] = \"/usr/lib/jvm/java-11-openjdk-amd64\"\n",
        "os.environ[\"SPARK_HOME\"] = f\"/content/{spark_version}-bin-hadoop2.7\"\n",
        "\n",
        "# Start a SparkSession\n",
        "import findspark\n",
        "findspark.init()"
      ]
    },
    {
      "cell_type": "code",
      "execution_count": 3,
      "metadata": {
        "colab": {
          "base_uri": "https://localhost:8080/"
        },
        "id": "hbXJfa0v0mUR",
        "outputId": "f435be5c-bbe7-43d1-8461-ebfb3f59596c"
      },
      "outputs": [
        {
          "name": "stdout",
          "output_type": "stream",
          "text": [
            "--2023-01-04 00:10:15--  https://jdbc.postgresql.org/download/postgresql-42.2.16.jar\n",
            "Resolving jdbc.postgresql.org (jdbc.postgresql.org)... 72.32.157.228, 2001:4800:3e1:1::228\n",
            "Connecting to jdbc.postgresql.org (jdbc.postgresql.org)|72.32.157.228|:443... connected.\n",
            "HTTP request sent, awaiting response... 200 OK\n",
            "Length: 1002883 (979K) [application/java-archive]\n",
            "Saving to: ‘postgresql-42.2.16.jar’\n",
            "\n",
            "postgresql-42.2.16. 100%[===================>] 979.38K  5.47MB/s    in 0.2s    \n",
            "\n",
            "2023-01-04 00:10:16 (5.47 MB/s) - ‘postgresql-42.2.16.jar’ saved [1002883/1002883]\n",
            "\n"
          ]
        }
      ],
      "source": [
        "# Download the Postgres driver that will allow Spark to interact with Postgres.\n",
        "!wget https://jdbc.postgresql.org/download/postgresql-42.2.16.jar"
      ]
    },
    {
      "cell_type": "code",
      "execution_count": 4,
      "metadata": {
        "id": "jtyU4Z_E02MU"
      },
      "outputs": [],
      "source": [
        "from pyspark.sql import SparkSession\n",
        "spark = SparkSession.builder.appName(\"M17-Amazon-Challenge\").config(\"spark.driver.extraClassPath\",\"/content/postgresql-42.2.16.jar\").getOrCreate()"
      ]
    },
    {
      "cell_type": "code",
      "execution_count": 5,
      "metadata": {
        "colab": {
          "base_uri": "https://localhost:8080/"
        },
        "id": "WgkEOnvu1oI4",
        "outputId": "2bbe4ded-ced2-407e-cb4f-0740ca8d950b"
      },
      "outputs": [
        {
          "name": "stdout",
          "output_type": "stream",
          "text": [
            "+-----------+-----------+--------------+----------+--------------+--------------------+----------------+-----------+-------------+-----------+----+-----------------+--------------------+--------------------+-----------+\n",
            "|marketplace|customer_id|     review_id|product_id|product_parent|       product_title|product_category|star_rating|helpful_votes|total_votes|vine|verified_purchase|     review_headline|         review_body|review_date|\n",
            "+-----------+-----------+--------------+----------+--------------+--------------------+----------------+-----------+-------------+-----------+----+-----------------+--------------------+--------------------+-----------+\n",
            "|         US|   33670092|R1UUISQ1GKOJTI|B00EE62UAE|     583436067|Trademark Home Po...|            Home|          1|            0|          0|   N|                Y|                 Run|Don't buy it clap...| 2015-08-31|\n",
            "|         US|   13726692|R1HOJ9WE8VCVOD|B001APXO5C|     465035091|O2-Cool 10-Inch P...|            Home|          5|            9|          9|   N|                Y|Love it, really c...|Love this ,I boug...| 2015-08-31|\n",
            "|         US|   50131396| RDNGVXMWQN2TN|B002HFDLCK|     136507891|Hoover Vacuum Cle...|            Home|          5|            0|          0|   N|                Y|          Five Stars|Nice style, color...| 2015-08-31|\n",
            "|         US|   16046884|R3OM9COQMVTDJ2|B00PL9EFPQ|     631238459|Banksy Pile of Ri...|            Home|          2|            0|          0|   N|                Y|Love Banksy's wor...|Meeeh. Love Banks...| 2015-08-31|\n",
            "|         US|   11417282|R3OFUQVR4Y80Q9|B00B5TPVQS|     190431573|SkyScan Atomic Wa...|            Home|          4|            0|          0|   N|                N|A silent second h...|Review by John Cr...| 2015-08-31|\n",
            "|         US|   48013430|R2GD25SBBGRKPO|B00NQDGHDC|     124050883|Mellanni Bed Shee...|            Home|          5|            0|          0|   N|                Y|I am very pleased...|I am very pleased...| 2015-08-31|\n",
            "|         US|    7341516|R3RRSLYKVWH9WB|B00I3BYEXM|     933053612|Hippie Hobo Sling...|            Home|          5|            0|          0|   N|                Y|          Five Stars|LOVE THIS SO VERY...| 2015-08-31|\n",
            "|         US|   20696954|R2HMFAGJJU6NT3|B008QZD7RY|      77515396|OluKai Hokua Sand...|            Home|          5|            0|          0|   N|                Y|          Five Stars|           Love them| 2015-08-31|\n",
            "|         US|   28241302|R2QDRZATHBY4GY|B00TQ6MXE0|     267158600|Melrose Ivory Ant...|            Home|          1|            0|          0|   N|                Y|Not the color I e...|This is a nice sh...| 2015-08-31|\n",
            "|         US|   45444347|R107946YZK57Q2|B004O39RJ4|     473994651|Home Basics 6-Pie...|            Home|          2|            0|          0|   N|                Y|Two mugs came chi...|Two mugs came chi...| 2015-08-31|\n",
            "|         US|   15080335|R31EK6FUI5YAL1|B003LZ09C0|     945333576|La Crosse Technol...|            Home|          5|            0|          0|   N|                Y|          Five Stars|Works great, it a...| 2015-08-31|\n",
            "|         US|   12081067|R2PCO0R2FKDQLD|B00I56KQV4|     383995956|Cozy Beddings 3-P...|            Home|          5|            0|          0|   N|                Y|          Five Stars|Exactly as I expe...| 2015-08-31|\n",
            "|         US|   26317120|R3HR2Y7RR8NWL0|B00GS6ENAS|     255999883|Tools of the Trad...|            Home|          4|            0|          0|   N|                Y|          Four Stars|    met expectations| 2015-08-31|\n",
            "|         US|   37523392|R2D2NATNTV6VBD|B00S9X17SY|     142926812|Clara Clark Premi...|            Home|          3|            0|          0|   N|                Y|        Pretty color|Very silky feelin...| 2015-08-31|\n",
            "|         US|   36990227| RKB0AGB0GJ693|B001R1RXUG|     237680897|Honeywell HT-908 ...|            Home|          5|            0|          0|   N|                Y|          Five Stars|Works great for t...| 2015-08-31|\n",
            "|         US|    8273344| RN6VOEZIS9SRX|B008T19WSS|     395315543|2 pcs .925 Sterli...|            Home|          5|            0|          0|   N|                Y|          Five Stars|          love these| 2015-08-31|\n",
            "|         US|   45448526|R31I8XK53JBAQ2|B011A4X754|     751900773|Artficial Pachyve...|            Home|          4|            0|          0|   N|                Y|          Four Stars|Good length. Very...| 2015-08-31|\n",
            "|         US|   28088591|R2R2Y989GKB6QH|B00DDIKBQO|     764331420|Pinzon Blackout C...|            Home|          5|            0|          0|   N|                Y|          Five Stars|        Works great!| 2015-08-31|\n",
            "|         US|   20276397|R12WZKURAV2VEY|B00F3T165Q|     962537263|Rit Dye Liquid Dy...|            Home|          5|            0|          0|   N|                Y|            Love it!|Been using this f...| 2015-08-31|\n",
            "|         US|     123327| RX2EMR0I821HW|B006C6FC6S|     279696452|The Original Slee...|            Home|          2|            0|          0|   N|                Y|           Two Stars|Ehh. Not sure why...| 2015-08-31|\n",
            "+-----------+-----------+--------------+----------+--------------+--------------------+----------------+-----------+-------------+-----------+----+-----------------+--------------------+--------------------+-----------+\n",
            "only showing top 20 rows\n",
            "\n"
          ]
        }
      ],
      "source": [
        "from pyspark import SparkFiles\n",
        "url = \"https://s3.amazonaws.com/amazon-reviews-pds/tsv/amazon_reviews_us_Home_v1_00.tsv.gz\"\n",
        "spark.sparkContext.addFile(url)\n",
        "df = spark.read.option(\"encoding\", \"UTF-8\").csv(SparkFiles.get(\"\"), sep=\"\\t\", header=True, inferSchema=True)\n",
        "df.show()"
      ]
    },
    {
      "cell_type": "code",
      "execution_count": 6,
      "metadata": {
        "colab": {
          "base_uri": "https://localhost:8080/"
        },
        "id": "yScw2LxD24LQ",
        "outputId": "c74f8264-b06c-44e4-aa3a-7effa8ee48fb"
      },
      "outputs": [
        {
          "name": "stdout",
          "output_type": "stream",
          "text": [
            "+-----------+-----------+--------------+----------+--------------+--------------------+----------------+-----------+-------------+-----------+----+-----------------+--------------------+--------------------+-----------+\n",
            "|marketplace|customer_id|     review_id|product_id|product_parent|       product_title|product_category|star_rating|helpful_votes|total_votes|vine|verified_purchase|     review_headline|         review_body|review_date|\n",
            "+-----------+-----------+--------------+----------+--------------+--------------------+----------------+-----------+-------------+-----------+----+-----------------+--------------------+--------------------+-----------+\n",
            "|         US|   32555853|R27XX9MG7OWSSM|B00CMV99HU|     475264259|5 x 20 Quality Ca...|            Home|          5|           49|         51|   N|                Y|Made Curtains out...|I bought these fo...| 2015-08-31|\n",
            "|         US|   24278614|R1I4IFDOW6IW9O|B00ZAUWZ6M|     195636450|Ellington Home 18...|            Home|          3|           44|         47|   N|                Y|Thin, slightly pl...|Ordered this for ...| 2015-08-31|\n",
            "|         US|   35722247|R2LZAV3VMLGPGS|B00LLI8RGO|      16515808|All for You 3pc R...|            Home|          3|           32|         33|   N|                Y|Nice design but W...|I ordered the Kin...| 2015-08-31|\n",
            "|         US|   40740421|R3FITR2BQI94RA|B00NCL0MAC|     361959449|Deluxe Chrome-pla...|            Home|          5|           33|         38|   N|                Y|Perfect for Limit...|I live in an apar...| 2015-08-31|\n",
            "|         US|   39387962| RWYBT1R3KPD2M|B00W2KG92Y|     150649056|Frigidaire FFRA05...|            Home|          4|          142|        163|   N|                Y|         Great Value|I'm running it in...| 2015-08-31|\n",
            "|         US|   20587147| RE4023DS92U8H|B00ZTC56L2|     705315070|Wrap-a-Nap - Trav...|            Home|          5|           26|         27|   N|                Y|My Somnolent Side...|Among the most di...| 2015-08-31|\n",
            "|         US|   12624787|R25TLB0EXZ7DJZ|B00RSGE0TG|     123292063|Superior 100% Dow...|            Home|          5|           45|         46|   N|                Y|... but I have to...|I don't usually l...| 2015-08-31|\n",
            "|         US|   29138872|R3BEQIBG1OQ7RT|B00MMQOZ1U|     827850997|SterlingPro Doubl...|            Home|          2|            3|         22|   N|                Y|It does not work ...|Some reviewers me...| 2015-08-31|\n",
            "|         US|   25498346|R1SQKXYWU7VMW1|B00J4IDGA0|     936370623|No. 918 Cory Cott...|            Home|          2|           23|         24|   N|                Y|Snagged before re...|I really liked th...| 2015-08-31|\n",
            "|         US|   35097285| RUL6FPHYI15TA|B008HVHJDA|     685385061|O-Cedar Dual Acti...|            Home|          2|           62|         70|   N|                Y|           Two Stars|Cheaper at Costco...| 2015-08-31|\n",
            "|         US|   29045609|R1K2O880XPCW4V|B00VGMAT0W|     220671246|Janome Merlot Sew...|            Home|          2|           26|         27|   N|                Y|impossible to bal...|I wanted a small ...| 2015-08-31|\n",
            "|         US|   28078123|R2KA15AG14I5I5|B002KCO96C|     233597090|Dirt Devil SD2000...|            Home|          5|           72|         81|   N|                Y|Great little ligh...|Like This Very Mu...| 2015-08-31|\n",
            "|         US|   42690023|R3VCE57VVGPHHA|B006J23ORO|     923896332|InterDesign Cameo...|            Home|          5|           69|         71|   N|                Y|     Strong and long|I bought this rod...| 2015-08-31|\n",
            "|         US|   46068082|R3GEWL61MS0MVE|B00UHIY7J0|      55699168|Generic I Love Yo...|            Home|          5|           23|         24|   N|                Y|                LOVE|Love it! Very sof...| 2015-08-31|\n",
            "|         US|   45292393|R1X06G0PTXOA61|B00T56FK96|     765211067|ALL IN ONE Comfor...|            Home|          1|           28|         32|   N|                Y|       Not worth it!|I purchased this ...| 2015-08-31|\n",
            "|         US|    2280598|R3IC3894IEJK1S|B00ER09BW2|     365022400|Greenland Home Fa...|            Home|          2|           32|         32|   N|                Y|Flowers don't rea...|Flowers don't rea...| 2015-08-31|\n",
            "|         US|   32576732|R2VB64562OSKEV|B00GP4RPDA|     508063292|LUCID 2 Inch Foam...|            Home|          1|            6|         24|   N|                N|Deceptive and dis...|Don't be fooled! ...| 2015-08-31|\n",
            "|         US|   52815715|R2W1OMYJERBXJ1|B00SFUVNKS|     977603375|Panasonic MC-CL94...|            Home|          5|           20|         23|   Y|                N|Compact and powerful|With pets in the ...| 2015-08-31|\n",
            "|         US|   28403355|R2TNQ0ZPP5F8D5|B00GP4RJUO|     508063292|LUCID 2 Inch Foam...|            Home|          1|            6|         24|   N|                Y|Expensive! Bad qu...|Bad quality, you ...| 2015-08-31|\n",
            "|         US|   30750792|R17CIVFMQGURJZ|B00MEV8BMM|     473737611|OxyLuv Oxytocin N...|            Home|          5|           24|         28|   N|                Y|Made orgasm possi...|I'm a 40+ male an...| 2015-08-31|\n",
            "+-----------+-----------+--------------+----------+--------------+--------------------+----------------+-----------+-------------+-----------+----+-----------------+--------------------+--------------------+-----------+\n",
            "only showing top 20 rows\n",
            "\n"
          ]
        }
      ],
      "source": [
        "# Filter total votes >= 20\n",
        "df_votes = df.filter(\"total_votes>=20\")\n",
        "df_votes.show()"
      ]
    },
    {
      "cell_type": "code",
      "execution_count": 7,
      "metadata": {
        "colab": {
          "base_uri": "https://localhost:8080/"
        },
        "id": "4Ix1ISHX3-zB",
        "outputId": "833fd2ab-2072-4b09-a6dc-a11cd5afeec2"
      },
      "outputs": [
        {
          "name": "stdout",
          "output_type": "stream",
          "text": [
            "+-----------+-----------+--------------+----------+--------------+--------------------+----------------+-----------+-------------+-----------+----+-----------------+--------------------+--------------------+-----------+\n",
            "|marketplace|customer_id|     review_id|product_id|product_parent|       product_title|product_category|star_rating|helpful_votes|total_votes|vine|verified_purchase|     review_headline|         review_body|review_date|\n",
            "+-----------+-----------+--------------+----------+--------------+--------------------+----------------+-----------+-------------+-----------+----+-----------------+--------------------+--------------------+-----------+\n",
            "|         US|   32555853|R27XX9MG7OWSSM|B00CMV99HU|     475264259|5 x 20 Quality Ca...|            Home|          5|           49|         51|   N|                Y|Made Curtains out...|I bought these fo...| 2015-08-31|\n",
            "|         US|   24278614|R1I4IFDOW6IW9O|B00ZAUWZ6M|     195636450|Ellington Home 18...|            Home|          3|           44|         47|   N|                Y|Thin, slightly pl...|Ordered this for ...| 2015-08-31|\n",
            "|         US|   35722247|R2LZAV3VMLGPGS|B00LLI8RGO|      16515808|All for You 3pc R...|            Home|          3|           32|         33|   N|                Y|Nice design but W...|I ordered the Kin...| 2015-08-31|\n",
            "|         US|   40740421|R3FITR2BQI94RA|B00NCL0MAC|     361959449|Deluxe Chrome-pla...|            Home|          5|           33|         38|   N|                Y|Perfect for Limit...|I live in an apar...| 2015-08-31|\n",
            "|         US|   39387962| RWYBT1R3KPD2M|B00W2KG92Y|     150649056|Frigidaire FFRA05...|            Home|          4|          142|        163|   N|                Y|         Great Value|I'm running it in...| 2015-08-31|\n",
            "|         US|   20587147| RE4023DS92U8H|B00ZTC56L2|     705315070|Wrap-a-Nap - Trav...|            Home|          5|           26|         27|   N|                Y|My Somnolent Side...|Among the most di...| 2015-08-31|\n",
            "|         US|   12624787|R25TLB0EXZ7DJZ|B00RSGE0TG|     123292063|Superior 100% Dow...|            Home|          5|           45|         46|   N|                Y|... but I have to...|I don't usually l...| 2015-08-31|\n",
            "|         US|   25498346|R1SQKXYWU7VMW1|B00J4IDGA0|     936370623|No. 918 Cory Cott...|            Home|          2|           23|         24|   N|                Y|Snagged before re...|I really liked th...| 2015-08-31|\n",
            "|         US|   35097285| RUL6FPHYI15TA|B008HVHJDA|     685385061|O-Cedar Dual Acti...|            Home|          2|           62|         70|   N|                Y|           Two Stars|Cheaper at Costco...| 2015-08-31|\n",
            "|         US|   29045609|R1K2O880XPCW4V|B00VGMAT0W|     220671246|Janome Merlot Sew...|            Home|          2|           26|         27|   N|                Y|impossible to bal...|I wanted a small ...| 2015-08-31|\n",
            "|         US|   28078123|R2KA15AG14I5I5|B002KCO96C|     233597090|Dirt Devil SD2000...|            Home|          5|           72|         81|   N|                Y|Great little ligh...|Like This Very Mu...| 2015-08-31|\n",
            "|         US|   42690023|R3VCE57VVGPHHA|B006J23ORO|     923896332|InterDesign Cameo...|            Home|          5|           69|         71|   N|                Y|     Strong and long|I bought this rod...| 2015-08-31|\n",
            "|         US|   46068082|R3GEWL61MS0MVE|B00UHIY7J0|      55699168|Generic I Love Yo...|            Home|          5|           23|         24|   N|                Y|                LOVE|Love it! Very sof...| 2015-08-31|\n",
            "|         US|   45292393|R1X06G0PTXOA61|B00T56FK96|     765211067|ALL IN ONE Comfor...|            Home|          1|           28|         32|   N|                Y|       Not worth it!|I purchased this ...| 2015-08-31|\n",
            "|         US|    2280598|R3IC3894IEJK1S|B00ER09BW2|     365022400|Greenland Home Fa...|            Home|          2|           32|         32|   N|                Y|Flowers don't rea...|Flowers don't rea...| 2015-08-31|\n",
            "|         US|   52815715|R2W1OMYJERBXJ1|B00SFUVNKS|     977603375|Panasonic MC-CL94...|            Home|          5|           20|         23|   Y|                N|Compact and powerful|With pets in the ...| 2015-08-31|\n",
            "|         US|   30750792|R17CIVFMQGURJZ|B00MEV8BMM|     473737611|OxyLuv Oxytocin N...|            Home|          5|           24|         28|   N|                Y|Made orgasm possi...|I'm a 40+ male an...| 2015-08-31|\n",
            "|         US|   28573677|R1M8O6WQETX2EQ|B00LZYI4G2|     706565780|Umax Linen Textur...|            Home|          5|           39|         40|   N|                Y|         Great Cover|This cover is ama...| 2015-08-31|\n",
            "|         US|   46217651|R30I77Z7JCPVTR|B00BP2S8GA|      85410975|[30 PACKS] 10 Gra...|            Home|          5|           22|         22|   N|                Y|Perfect for fire ...|I purchased this ...| 2015-08-31|\n",
            "|         US|   36137863|R2BEMCDEIKZ1AZ|B00XJYTB8Q|     821129869|OXX Coffeeboxx Jo...|            Home|          5|           22|         25|   N|                Y|   Love this machine|Love this machine...| 2015-08-31|\n",
            "+-----------+-----------+--------------+----------+--------------+--------------------+----------------+-----------+-------------+-----------+----+-----------------+--------------------+--------------------+-----------+\n",
            "only showing top 20 rows\n",
            "\n"
          ]
        }
      ],
      "source": [
        "# Filter helpful votes / total votes >= 50%\n",
        "from pyspark.sql import functions as F\n",
        "df_helpful = df_votes.filter((F.col(\"helpful_votes\")/F.col(\"total_votes\"))>=0.5)\n",
        "df_helpful.show()"
      ]
    },
    {
      "cell_type": "code",
      "execution_count": 8,
      "metadata": {
        "colab": {
          "base_uri": "https://localhost:8080/"
        },
        "id": "xpoqdcOCDStW",
        "outputId": "b02b83cb-a48c-42f5-f92f-0d62c2d21532"
      },
      "outputs": [
        {
          "name": "stdout",
          "output_type": "stream",
          "text": [
            "+-----------+-----------+--------------+----------+--------------+--------------------+----------------+-----------+-------------+-----------+----+-----------------+--------------------+--------------------+-----------+\n",
            "|marketplace|customer_id|     review_id|product_id|product_parent|       product_title|product_category|star_rating|helpful_votes|total_votes|vine|verified_purchase|     review_headline|         review_body|review_date|\n",
            "+-----------+-----------+--------------+----------+--------------+--------------------+----------------+-----------+-------------+-----------+----+-----------------+--------------------+--------------------+-----------+\n",
            "|         US|   52815715|R2W1OMYJERBXJ1|B00SFUVNKS|     977603375|Panasonic MC-CL94...|            Home|          5|           20|         23|   Y|                N|Compact and powerful|With pets in the ...| 2015-08-31|\n",
            "|         US|   13663596| R31VJCBBKU13Y|B0105TXVRE|     820889787|Electrolux EL4335...|            Home|          5|           24|         27|   Y|                N|It actually does ...|I consider myself...| 2015-08-28|\n",
            "|         US|   28113646|R350JNDV0INC11|B0105TXVRE|     820889787|Electrolux EL4335...|            Home|          4|          388|        398|   Y|                Y|Head to Head Comp...|We have a relativ...| 2015-08-27|\n",
            "|         US|   33244285|R2NJA2I5C9Y0FR|B010FQ4STC|     256488195|Dyson V6 Mattress...|            Home|          3|           63|         73|   Y|                N|      Mixed Feelings|I really have mix...| 2015-08-26|\n",
            "|         US|   37840725|R296RSG25RD1IX|B011LS47SA|     107908024|Bissell 1544A Pow...|            Home|          3|           46|         51|   Y|                N|        Disappointed|I was thrilled by...| 2015-08-23|\n",
            "|         US|   49082354|R3IJKA4RI56TFT|B00ZRJIOAM|     355666618|Samsung  POWERbot...|            Home|          4|           25|         30|   Y|                N|Two Furry Pets?  ...|The Samsung VR900...| 2015-08-23|\n",
            "|         US|   25947084|R1EU2LNHAWWPFI|B00ZRJIOAM|     355666618|Samsung  POWERbot...|            Home|          5|           19|         24|   Y|                N|Powerful and Smar...|Although I have n...| 2015-08-23|\n",
            "|         US|   52643790|R164L6F7QRHL8A|B00YGZFNJ8|      98136695|Dyson AM10 Humidi...|            Home|          5|           94|        109|   Y|                N|Amazing, thoughtf...|This has to be th...| 2015-08-19|\n",
            "|         US|   52949686|R3VONEXS4LRVWK|B00YGZFNJ8|      98136695|Dyson AM10 Humidi...|            Home|          3|          378|        388|   Y|                N|Excellent remote-...|This is now our t...| 2015-08-14|\n",
            "|         US|   53089636| RYO3NDB745QIW|B00SMLJQ7W|     947483047|Dyson V6 Animal C...|            Home|          5|           33|         37|   Y|                N|Great suction and...|We have a dog who...| 2015-08-13|\n",
            "|         US|   47321917|R1Q9CN3ONUQPFY|B00O0KU2V8|      20509261|  Big Boss Insta Mop|            Home|          4|           26|         27|   Y|                N|Mostly good but a...|The good - it wor...| 2015-08-12|\n",
            "|         US|   33872932|R3DOAUYPM5PRP5|B011LS47SA|     107908024|Bissell 1544A Pow...|            Home|          4|          304|        311|   Y|                N|Excellent cleanin...|I have owned at l...| 2015-08-12|\n",
            "|         US|   50908619|R1MBYFHSDKQWTR|B00YGZFNJ8|      98136695|Dyson AM10 Humidi...|            Home|          5|           15|         21|   Y|                N|Sweeeet - Germs b...|I have used every...| 2015-08-12|\n",
            "|         US|   45838866|R2HIF4HK7B30PK|B0105TXVRE|     820889787|Electrolux EL4335...|            Home|          5|           75|         80|   Y|                N|Versatile, powerf...|Electrolux canist...| 2015-08-10|\n",
            "|         US|   43335941|R3VZPEQEFY6RC9|B002Z3H5F8|     466612968|ClosetMaid ShelfT...|            Home|          4|           34|         37|   Y|                N|Make sure you get...|First, these pric...| 2015-08-09|\n",
            "|         US|   51401810|R2C65P5YI2T5U6|B0106ANJ9C|     103715813|SteamFast SF-560 ...|            Home|          5|           20|         22|   Y|                N|You’ll be steamin...|This is a great l...| 2015-08-09|\n",
            "|         US|   49598970|R3SB6ISY0UPLHY|B010814IYO|     439410028|Seville Classics ...|            Home|          5|           25|         28|   Y|                N|Sturdy and well b...|[[VIDEOID:9136b75...| 2015-08-08|\n",
            "|         US|   20594005|R3103BJSOISEON|B00G25GTNY|     113286735|Artiva USA Micah ...|            Home|          4|           19|         21|   Y|                N|Gorgeous light bu...|I had an easy tim...| 2015-08-08|\n",
            "|         US|   50738297|R3SVBM51RHF5YB|B010FQ4STC|     256488195|Dyson V6 Mattress...|            Home|          4|           78|         87|   Y|                N|So Much More Than...|Please don't be f...| 2015-08-05|\n",
            "|         US|   51930286| R7FUHZ0TN5WEX|B00YU1O15U|     450977654|Honeywell HTF210B...|            Home|          4|           24|         29|   Y|                N|Quietness is in t...|I have more than ...| 2015-08-05|\n",
            "+-----------+-----------+--------------+----------+--------------+--------------------+----------------+-----------+-------------+-----------+----+-----------------+--------------------+--------------------+-----------+\n",
            "only showing top 20 rows\n",
            "\n"
          ]
        }
      ],
      "source": [
        "# Filter vine (paid) reviews\n",
        "df_vine_y = df_helpful.filter(df_helpful['vine'] == 'Y')\n",
        "df_vine_y.show()"
      ]
    },
    {
      "cell_type": "code",
      "execution_count": 9,
      "metadata": {
        "colab": {
          "base_uri": "https://localhost:8080/"
        },
        "id": "1Mb0LBHvMZwX",
        "outputId": "892a2aed-b865-46d9-b08e-6575a2c7ebc2"
      },
      "outputs": [
        {
          "name": "stdout",
          "output_type": "stream",
          "text": [
            "+----------------+\n",
            "|count(review_id)|\n",
            "+----------------+\n",
            "|            1448|\n",
            "+----------------+\n",
            "\n"
          ]
        }
      ],
      "source": [
        "# Number of vine (paid) reviews\n",
        "df_vine_y.agg({\"review_id\":\"count\"}).show()"
      ]
    },
    {
      "cell_type": "code",
      "execution_count": 10,
      "metadata": {
        "colab": {
          "base_uri": "https://localhost:8080/"
        },
        "id": "-TPbQ6o8EHKb",
        "outputId": "dcdfe18f-21ea-43f7-956b-438a325dbd72"
      },
      "outputs": [
        {
          "name": "stdout",
          "output_type": "stream",
          "text": [
            "+-----------+-----------+--------------+----------+--------------+--------------------+----------------+-----------+-------------+-----------+----+-----------------+--------------------+--------------------+-----------+\n",
            "|marketplace|customer_id|     review_id|product_id|product_parent|       product_title|product_category|star_rating|helpful_votes|total_votes|vine|verified_purchase|     review_headline|         review_body|review_date|\n",
            "+-----------+-----------+--------------+----------+--------------+--------------------+----------------+-----------+-------------+-----------+----+-----------------+--------------------+--------------------+-----------+\n",
            "|         US|   32555853|R27XX9MG7OWSSM|B00CMV99HU|     475264259|5 x 20 Quality Ca...|            Home|          5|           49|         51|   N|                Y|Made Curtains out...|I bought these fo...| 2015-08-31|\n",
            "|         US|   24278614|R1I4IFDOW6IW9O|B00ZAUWZ6M|     195636450|Ellington Home 18...|            Home|          3|           44|         47|   N|                Y|Thin, slightly pl...|Ordered this for ...| 2015-08-31|\n",
            "|         US|   35722247|R2LZAV3VMLGPGS|B00LLI8RGO|      16515808|All for You 3pc R...|            Home|          3|           32|         33|   N|                Y|Nice design but W...|I ordered the Kin...| 2015-08-31|\n",
            "|         US|   40740421|R3FITR2BQI94RA|B00NCL0MAC|     361959449|Deluxe Chrome-pla...|            Home|          5|           33|         38|   N|                Y|Perfect for Limit...|I live in an apar...| 2015-08-31|\n",
            "|         US|   39387962| RWYBT1R3KPD2M|B00W2KG92Y|     150649056|Frigidaire FFRA05...|            Home|          4|          142|        163|   N|                Y|         Great Value|I'm running it in...| 2015-08-31|\n",
            "|         US|   20587147| RE4023DS92U8H|B00ZTC56L2|     705315070|Wrap-a-Nap - Trav...|            Home|          5|           26|         27|   N|                Y|My Somnolent Side...|Among the most di...| 2015-08-31|\n",
            "|         US|   12624787|R25TLB0EXZ7DJZ|B00RSGE0TG|     123292063|Superior 100% Dow...|            Home|          5|           45|         46|   N|                Y|... but I have to...|I don't usually l...| 2015-08-31|\n",
            "|         US|   25498346|R1SQKXYWU7VMW1|B00J4IDGA0|     936370623|No. 918 Cory Cott...|            Home|          2|           23|         24|   N|                Y|Snagged before re...|I really liked th...| 2015-08-31|\n",
            "|         US|   35097285| RUL6FPHYI15TA|B008HVHJDA|     685385061|O-Cedar Dual Acti...|            Home|          2|           62|         70|   N|                Y|           Two Stars|Cheaper at Costco...| 2015-08-31|\n",
            "|         US|   29045609|R1K2O880XPCW4V|B00VGMAT0W|     220671246|Janome Merlot Sew...|            Home|          2|           26|         27|   N|                Y|impossible to bal...|I wanted a small ...| 2015-08-31|\n",
            "|         US|   28078123|R2KA15AG14I5I5|B002KCO96C|     233597090|Dirt Devil SD2000...|            Home|          5|           72|         81|   N|                Y|Great little ligh...|Like This Very Mu...| 2015-08-31|\n",
            "|         US|   42690023|R3VCE57VVGPHHA|B006J23ORO|     923896332|InterDesign Cameo...|            Home|          5|           69|         71|   N|                Y|     Strong and long|I bought this rod...| 2015-08-31|\n",
            "|         US|   46068082|R3GEWL61MS0MVE|B00UHIY7J0|      55699168|Generic I Love Yo...|            Home|          5|           23|         24|   N|                Y|                LOVE|Love it! Very sof...| 2015-08-31|\n",
            "|         US|   45292393|R1X06G0PTXOA61|B00T56FK96|     765211067|ALL IN ONE Comfor...|            Home|          1|           28|         32|   N|                Y|       Not worth it!|I purchased this ...| 2015-08-31|\n",
            "|         US|    2280598|R3IC3894IEJK1S|B00ER09BW2|     365022400|Greenland Home Fa...|            Home|          2|           32|         32|   N|                Y|Flowers don't rea...|Flowers don't rea...| 2015-08-31|\n",
            "|         US|   30750792|R17CIVFMQGURJZ|B00MEV8BMM|     473737611|OxyLuv Oxytocin N...|            Home|          5|           24|         28|   N|                Y|Made orgasm possi...|I'm a 40+ male an...| 2015-08-31|\n",
            "|         US|   28573677|R1M8O6WQETX2EQ|B00LZYI4G2|     706565780|Umax Linen Textur...|            Home|          5|           39|         40|   N|                Y|         Great Cover|This cover is ama...| 2015-08-31|\n",
            "|         US|   46217651|R30I77Z7JCPVTR|B00BP2S8GA|      85410975|[30 PACKS] 10 Gra...|            Home|          5|           22|         22|   N|                Y|Perfect for fire ...|I purchased this ...| 2015-08-31|\n",
            "|         US|   36137863|R2BEMCDEIKZ1AZ|B00XJYTB8Q|     821129869|OXX Coffeeboxx Jo...|            Home|          5|           22|         25|   N|                Y|   Love this machine|Love this machine...| 2015-08-31|\n",
            "|         US|    6376026|R34AP9KC4GV107|B00O7B7IO4|     476725363|Decowall DM-1401 ...|            Home|          1|           18|         23|   N|                N|            One Star|The ruler is not ...| 2015-08-31|\n",
            "+-----------+-----------+--------------+----------+--------------+--------------------+----------------+-----------+-------------+-----------+----+-----------------+--------------------+--------------------+-----------+\n",
            "only showing top 20 rows\n",
            "\n"
          ]
        }
      ],
      "source": [
        "# Filter non-vine (unpaid) reviews\n",
        "df_vine_n = df_helpful.filter(df_helpful['vine'] == 'N')\n",
        "df_vine_n.show()"
      ]
    },
    {
      "cell_type": "code",
      "execution_count": 11,
      "metadata": {
        "colab": {
          "base_uri": "https://localhost:8080/"
        },
        "id": "YNa9leOJK1tz",
        "outputId": "7b35173c-b405-4e24-e2bc-31fbd294ee8e"
      },
      "outputs": [
        {
          "name": "stdout",
          "output_type": "stream",
          "text": [
            "+----------------+\n",
            "|count(review_id)|\n",
            "+----------------+\n",
            "|           90768|\n",
            "+----------------+\n",
            "\n"
          ]
        }
      ],
      "source": [
        "# Number of non-vine (unpaid) reviews\n",
        "df_vine_n.agg({\"review_id\":\"count\"}).show()"
      ]
    },
    {
      "cell_type": "code",
      "execution_count": 12,
      "metadata": {
        "colab": {
          "base_uri": "https://localhost:8080/",
          "height": 81
        },
        "id": "kbiG2LOhFMhj",
        "outputId": "0e18214c-462c-441e-8e61-761c5b3b35d6"
      },
      "outputs": [
        {
          "data": {
            "text/html": [
              "\n",
              "  <div id=\"df-fa9b3024-a50d-4ff2-a2d9-d5829e059398\">\n",
              "    <div class=\"colab-df-container\">\n",
              "      <div>\n",
              "<style scoped>\n",
              "    .dataframe tbody tr th:only-of-type {\n",
              "        vertical-align: middle;\n",
              "    }\n",
              "\n",
              "    .dataframe tbody tr th {\n",
              "        vertical-align: top;\n",
              "    }\n",
              "\n",
              "    .dataframe thead th {\n",
              "        text-align: right;\n",
              "    }\n",
              "</style>\n",
              "<table border=\"1\" class=\"dataframe\">\n",
              "  <thead>\n",
              "    <tr style=\"text-align: right;\">\n",
              "      <th></th>\n",
              "      <th>count(review_id)</th>\n",
              "    </tr>\n",
              "  </thead>\n",
              "  <tbody>\n",
              "    <tr>\n",
              "      <th>0</th>\n",
              "      <td>92216</td>\n",
              "    </tr>\n",
              "  </tbody>\n",
              "</table>\n",
              "</div>\n",
              "      <button class=\"colab-df-convert\" onclick=\"convertToInteractive('df-fa9b3024-a50d-4ff2-a2d9-d5829e059398')\"\n",
              "              title=\"Convert this dataframe to an interactive table.\"\n",
              "              style=\"display:none;\">\n",
              "        \n",
              "  <svg xmlns=\"http://www.w3.org/2000/svg\" height=\"24px\"viewBox=\"0 0 24 24\"\n",
              "       width=\"24px\">\n",
              "    <path d=\"M0 0h24v24H0V0z\" fill=\"none\"/>\n",
              "    <path d=\"M18.56 5.44l.94 2.06.94-2.06 2.06-.94-2.06-.94-.94-2.06-.94 2.06-2.06.94zm-11 1L8.5 8.5l.94-2.06 2.06-.94-2.06-.94L8.5 2.5l-.94 2.06-2.06.94zm10 10l.94 2.06.94-2.06 2.06-.94-2.06-.94-.94-2.06-.94 2.06-2.06.94z\"/><path d=\"M17.41 7.96l-1.37-1.37c-.4-.4-.92-.59-1.43-.59-.52 0-1.04.2-1.43.59L10.3 9.45l-7.72 7.72c-.78.78-.78 2.05 0 2.83L4 21.41c.39.39.9.59 1.41.59.51 0 1.02-.2 1.41-.59l7.78-7.78 2.81-2.81c.8-.78.8-2.07 0-2.86zM5.41 20L4 18.59l7.72-7.72 1.47 1.35L5.41 20z\"/>\n",
              "  </svg>\n",
              "      </button>\n",
              "      \n",
              "  <style>\n",
              "    .colab-df-container {\n",
              "      display:flex;\n",
              "      flex-wrap:wrap;\n",
              "      gap: 12px;\n",
              "    }\n",
              "\n",
              "    .colab-df-convert {\n",
              "      background-color: #E8F0FE;\n",
              "      border: none;\n",
              "      border-radius: 50%;\n",
              "      cursor: pointer;\n",
              "      display: none;\n",
              "      fill: #1967D2;\n",
              "      height: 32px;\n",
              "      padding: 0 0 0 0;\n",
              "      width: 32px;\n",
              "    }\n",
              "\n",
              "    .colab-df-convert:hover {\n",
              "      background-color: #E2EBFA;\n",
              "      box-shadow: 0px 1px 2px rgba(60, 64, 67, 0.3), 0px 1px 3px 1px rgba(60, 64, 67, 0.15);\n",
              "      fill: #174EA6;\n",
              "    }\n",
              "\n",
              "    [theme=dark] .colab-df-convert {\n",
              "      background-color: #3B4455;\n",
              "      fill: #D2E3FC;\n",
              "    }\n",
              "\n",
              "    [theme=dark] .colab-df-convert:hover {\n",
              "      background-color: #434B5C;\n",
              "      box-shadow: 0px 1px 3px 1px rgba(0, 0, 0, 0.15);\n",
              "      filter: drop-shadow(0px 1px 2px rgba(0, 0, 0, 0.3));\n",
              "      fill: #FFFFFF;\n",
              "    }\n",
              "  </style>\n",
              "\n",
              "      <script>\n",
              "        const buttonEl =\n",
              "          document.querySelector('#df-fa9b3024-a50d-4ff2-a2d9-d5829e059398 button.colab-df-convert');\n",
              "        buttonEl.style.display =\n",
              "          google.colab.kernel.accessAllowed ? 'block' : 'none';\n",
              "\n",
              "        async function convertToInteractive(key) {\n",
              "          const element = document.querySelector('#df-fa9b3024-a50d-4ff2-a2d9-d5829e059398');\n",
              "          const dataTable =\n",
              "            await google.colab.kernel.invokeFunction('convertToInteractive',\n",
              "                                                     [key], {});\n",
              "          if (!dataTable) return;\n",
              "\n",
              "          const docLinkHtml = 'Like what you see? Visit the ' +\n",
              "            '<a target=\"_blank\" href=https://colab.research.google.com/notebooks/data_table.ipynb>data table notebook</a>'\n",
              "            + ' to learn more about interactive tables.';\n",
              "          element.innerHTML = '';\n",
              "          dataTable['output_type'] = 'display_data';\n",
              "          await google.colab.output.renderOutput(dataTable, element);\n",
              "          const docLink = document.createElement('div');\n",
              "          docLink.innerHTML = docLinkHtml;\n",
              "          element.appendChild(docLink);\n",
              "        }\n",
              "      </script>\n",
              "    </div>\n",
              "  </div>\n",
              "  "
            ],
            "text/plain": [
              "   count(review_id)\n",
              "0             92216"
            ]
          },
          "execution_count": 12,
          "metadata": {},
          "output_type": "execute_result"
        }
      ],
      "source": [
        "# Total number of (helpful) reviews\n",
        "df_reviews = df_helpful.agg({\"review_id\":\"count\"})\n",
        "pd_reviews = df_reviews.toPandas()\n",
        "pd_reviews.head()"
      ]
    },
    {
      "cell_type": "code",
      "execution_count": 13,
      "metadata": {
        "colab": {
          "base_uri": "https://localhost:8080/"
        },
        "id": "bYDSdngsGJ39",
        "outputId": "326b54a8-99d4-4c37-f03d-d0056556e261"
      },
      "outputs": [
        {
          "name": "stdout",
          "output_type": "stream",
          "text": [
            "+----------------+\n",
            "|count(review_id)|\n",
            "+----------------+\n",
            "|         3892997|\n",
            "+----------------+\n",
            "\n"
          ]
        }
      ],
      "source": [
        "# Number of total 5-star reviews\n",
        "df_star = df.filter(df[\"star_rating\"] == 5).agg({\"review_id\":\"count\"})\n",
        "df_star.show()"
      ]
    },
    {
      "cell_type": "code",
      "execution_count": 14,
      "metadata": {
        "id": "RYJghHYrpFVi"
      },
      "outputs": [],
      "source": [
        "import pandas as pd"
      ]
    },
    {
      "cell_type": "code",
      "execution_count": null,
      "metadata": {
        "colab": {
          "base_uri": "https://localhost:8080/",
          "height": 81
        },
        "id": "GWJaPqIfyfax",
        "outputId": "9ca50284-ac8c-40a0-c0de-342df04d8ae9"
      },
      "outputs": [
        {
          "data": {
            "text/html": [
              "\n",
              "  <div id=\"df-27240fbc-4ba9-4f5e-9c93-c761e721af6d\">\n",
              "    <div class=\"colab-df-container\">\n",
              "      <div>\n",
              "<style scoped>\n",
              "    .dataframe tbody tr th:only-of-type {\n",
              "        vertical-align: middle;\n",
              "    }\n",
              "\n",
              "    .dataframe tbody tr th {\n",
              "        vertical-align: top;\n",
              "    }\n",
              "\n",
              "    .dataframe thead th {\n",
              "        text-align: right;\n",
              "    }\n",
              "</style>\n",
              "<table border=\"1\" class=\"dataframe\">\n",
              "  <thead>\n",
              "    <tr style=\"text-align: right;\">\n",
              "      <th></th>\n",
              "      <th>count(review_id)</th>\n",
              "    </tr>\n",
              "  </thead>\n",
              "  <tbody>\n",
              "    <tr>\n",
              "      <th>0</th>\n",
              "      <td>0.70%</td>\n",
              "    </tr>\n",
              "  </tbody>\n",
              "</table>\n",
              "</div>\n",
              "      <button class=\"colab-df-convert\" onclick=\"convertToInteractive('df-27240fbc-4ba9-4f5e-9c93-c761e721af6d')\"\n",
              "              title=\"Convert this dataframe to an interactive table.\"\n",
              "              style=\"display:none;\">\n",
              "        \n",
              "  <svg xmlns=\"http://www.w3.org/2000/svg\" height=\"24px\"viewBox=\"0 0 24 24\"\n",
              "       width=\"24px\">\n",
              "    <path d=\"M0 0h24v24H0V0z\" fill=\"none\"/>\n",
              "    <path d=\"M18.56 5.44l.94 2.06.94-2.06 2.06-.94-2.06-.94-.94-2.06-.94 2.06-2.06.94zm-11 1L8.5 8.5l.94-2.06 2.06-.94-2.06-.94L8.5 2.5l-.94 2.06-2.06.94zm10 10l.94 2.06.94-2.06 2.06-.94-2.06-.94-.94-2.06-.94 2.06-2.06.94z\"/><path d=\"M17.41 7.96l-1.37-1.37c-.4-.4-.92-.59-1.43-.59-.52 0-1.04.2-1.43.59L10.3 9.45l-7.72 7.72c-.78.78-.78 2.05 0 2.83L4 21.41c.39.39.9.59 1.41.59.51 0 1.02-.2 1.41-.59l7.78-7.78 2.81-2.81c.8-.78.8-2.07 0-2.86zM5.41 20L4 18.59l7.72-7.72 1.47 1.35L5.41 20z\"/>\n",
              "  </svg>\n",
              "      </button>\n",
              "      \n",
              "  <style>\n",
              "    .colab-df-container {\n",
              "      display:flex;\n",
              "      flex-wrap:wrap;\n",
              "      gap: 12px;\n",
              "    }\n",
              "\n",
              "    .colab-df-convert {\n",
              "      background-color: #E8F0FE;\n",
              "      border: none;\n",
              "      border-radius: 50%;\n",
              "      cursor: pointer;\n",
              "      display: none;\n",
              "      fill: #1967D2;\n",
              "      height: 32px;\n",
              "      padding: 0 0 0 0;\n",
              "      width: 32px;\n",
              "    }\n",
              "\n",
              "    .colab-df-convert:hover {\n",
              "      background-color: #E2EBFA;\n",
              "      box-shadow: 0px 1px 2px rgba(60, 64, 67, 0.3), 0px 1px 3px 1px rgba(60, 64, 67, 0.15);\n",
              "      fill: #174EA6;\n",
              "    }\n",
              "\n",
              "    [theme=dark] .colab-df-convert {\n",
              "      background-color: #3B4455;\n",
              "      fill: #D2E3FC;\n",
              "    }\n",
              "\n",
              "    [theme=dark] .colab-df-convert:hover {\n",
              "      background-color: #434B5C;\n",
              "      box-shadow: 0px 1px 3px 1px rgba(0, 0, 0, 0.15);\n",
              "      filter: drop-shadow(0px 1px 2px rgba(0, 0, 0, 0.3));\n",
              "      fill: #FFFFFF;\n",
              "    }\n",
              "  </style>\n",
              "\n",
              "      <script>\n",
              "        const buttonEl =\n",
              "          document.querySelector('#df-27240fbc-4ba9-4f5e-9c93-c761e721af6d button.colab-df-convert');\n",
              "        buttonEl.style.display =\n",
              "          google.colab.kernel.accessAllowed ? 'block' : 'none';\n",
              "\n",
              "        async function convertToInteractive(key) {\n",
              "          const element = document.querySelector('#df-27240fbc-4ba9-4f5e-9c93-c761e721af6d');\n",
              "          const dataTable =\n",
              "            await google.colab.kernel.invokeFunction('convertToInteractive',\n",
              "                                                     [key], {});\n",
              "          if (!dataTable) return;\n",
              "\n",
              "          const docLinkHtml = 'Like what you see? Visit the ' +\n",
              "            '<a target=\"_blank\" href=https://colab.research.google.com/notebooks/data_table.ipynb>data table notebook</a>'\n",
              "            + ' to learn more about interactive tables.';\n",
              "          element.innerHTML = '';\n",
              "          dataTable['output_type'] = 'display_data';\n",
              "          await google.colab.output.renderOutput(dataTable, element);\n",
              "          const docLink = document.createElement('div');\n",
              "          docLink.innerHTML = docLinkHtml;\n",
              "          element.appendChild(docLink);\n",
              "        }\n",
              "      </script>\n",
              "    </div>\n",
              "  </div>\n",
              "  "
            ],
            "text/plain": [
              "  count(review_id)\n",
              "0            0.70%"
            ]
          },
          "execution_count": 15,
          "metadata": {},
          "output_type": "execute_result"
        }
      ],
      "source": [
        "# Percentage of Vine 5 star reviews\n",
        "df_paid_five_star = df_vine_y.filter(df_vine_y['star_rating']==5)\n",
        "pd_paid = df_paid_five_star.toPandas().count()\n",
        "pd_paid_pct = pd_paid['review_id']/pd_reviews\n",
        "pd_paid_pct.loc[:, \"count(review_id)\"] = pd_paid_pct[\"count(review_id)\"].map('{:.2%}'.format)\n",
        "pd_paid_pct.head()"
      ]
    },
    {
      "cell_type": "code",
      "execution_count": 16,
      "metadata": {
        "colab": {
          "base_uri": "https://localhost:8080/"
        },
        "id": "Im8pSYwlNac3",
        "outputId": "2f878b81-0f01-460d-9a77-fbf1c00065c2"
      },
      "outputs": [
        {
          "name": "stdout",
          "output_type": "stream",
          "text": [
            "+----------------+\n",
            "|count(review_id)|\n",
            "+----------------+\n",
            "|             647|\n",
            "+----------------+\n",
            "\n"
          ]
        }
      ],
      "source": [
        "# Number of Vine reviews that are 5 stars\n",
        "count_paid_five = df_paid_five_star.agg({'review_id':'count'})\n",
        "count_paid_five.show()"
      ]
    },
    {
      "cell_type": "code",
      "execution_count": 17,
      "metadata": {
        "colab": {
          "base_uri": "https://localhost:8080/",
          "height": 81
        },
        "id": "zS6Nef8GwgWn",
        "outputId": "6dd144cf-4f67-4f24-e931-26d2980ed6dd"
      },
      "outputs": [
        {
          "data": {
            "text/html": [
              "\n",
              "  <div id=\"df-949f52e7-dbf3-4510-acbb-b7bfbda76ef4\">\n",
              "    <div class=\"colab-df-container\">\n",
              "      <div>\n",
              "<style scoped>\n",
              "    .dataframe tbody tr th:only-of-type {\n",
              "        vertical-align: middle;\n",
              "    }\n",
              "\n",
              "    .dataframe tbody tr th {\n",
              "        vertical-align: top;\n",
              "    }\n",
              "\n",
              "    .dataframe thead th {\n",
              "        text-align: right;\n",
              "    }\n",
              "</style>\n",
              "<table border=\"1\" class=\"dataframe\">\n",
              "  <thead>\n",
              "    <tr style=\"text-align: right;\">\n",
              "      <th></th>\n",
              "      <th>count(review_id)</th>\n",
              "    </tr>\n",
              "  </thead>\n",
              "  <tbody>\n",
              "    <tr>\n",
              "      <th>0</th>\n",
              "      <td>47.83%</td>\n",
              "    </tr>\n",
              "  </tbody>\n",
              "</table>\n",
              "</div>\n",
              "      <button class=\"colab-df-convert\" onclick=\"convertToInteractive('df-949f52e7-dbf3-4510-acbb-b7bfbda76ef4')\"\n",
              "              title=\"Convert this dataframe to an interactive table.\"\n",
              "              style=\"display:none;\">\n",
              "        \n",
              "  <svg xmlns=\"http://www.w3.org/2000/svg\" height=\"24px\"viewBox=\"0 0 24 24\"\n",
              "       width=\"24px\">\n",
              "    <path d=\"M0 0h24v24H0V0z\" fill=\"none\"/>\n",
              "    <path d=\"M18.56 5.44l.94 2.06.94-2.06 2.06-.94-2.06-.94-.94-2.06-.94 2.06-2.06.94zm-11 1L8.5 8.5l.94-2.06 2.06-.94-2.06-.94L8.5 2.5l-.94 2.06-2.06.94zm10 10l.94 2.06.94-2.06 2.06-.94-2.06-.94-.94-2.06-.94 2.06-2.06.94z\"/><path d=\"M17.41 7.96l-1.37-1.37c-.4-.4-.92-.59-1.43-.59-.52 0-1.04.2-1.43.59L10.3 9.45l-7.72 7.72c-.78.78-.78 2.05 0 2.83L4 21.41c.39.39.9.59 1.41.59.51 0 1.02-.2 1.41-.59l7.78-7.78 2.81-2.81c.8-.78.8-2.07 0-2.86zM5.41 20L4 18.59l7.72-7.72 1.47 1.35L5.41 20z\"/>\n",
              "  </svg>\n",
              "      </button>\n",
              "      \n",
              "  <style>\n",
              "    .colab-df-container {\n",
              "      display:flex;\n",
              "      flex-wrap:wrap;\n",
              "      gap: 12px;\n",
              "    }\n",
              "\n",
              "    .colab-df-convert {\n",
              "      background-color: #E8F0FE;\n",
              "      border: none;\n",
              "      border-radius: 50%;\n",
              "      cursor: pointer;\n",
              "      display: none;\n",
              "      fill: #1967D2;\n",
              "      height: 32px;\n",
              "      padding: 0 0 0 0;\n",
              "      width: 32px;\n",
              "    }\n",
              "\n",
              "    .colab-df-convert:hover {\n",
              "      background-color: #E2EBFA;\n",
              "      box-shadow: 0px 1px 2px rgba(60, 64, 67, 0.3), 0px 1px 3px 1px rgba(60, 64, 67, 0.15);\n",
              "      fill: #174EA6;\n",
              "    }\n",
              "\n",
              "    [theme=dark] .colab-df-convert {\n",
              "      background-color: #3B4455;\n",
              "      fill: #D2E3FC;\n",
              "    }\n",
              "\n",
              "    [theme=dark] .colab-df-convert:hover {\n",
              "      background-color: #434B5C;\n",
              "      box-shadow: 0px 1px 3px 1px rgba(0, 0, 0, 0.15);\n",
              "      filter: drop-shadow(0px 1px 2px rgba(0, 0, 0, 0.3));\n",
              "      fill: #FFFFFF;\n",
              "    }\n",
              "  </style>\n",
              "\n",
              "      <script>\n",
              "        const buttonEl =\n",
              "          document.querySelector('#df-949f52e7-dbf3-4510-acbb-b7bfbda76ef4 button.colab-df-convert');\n",
              "        buttonEl.style.display =\n",
              "          google.colab.kernel.accessAllowed ? 'block' : 'none';\n",
              "\n",
              "        async function convertToInteractive(key) {\n",
              "          const element = document.querySelector('#df-949f52e7-dbf3-4510-acbb-b7bfbda76ef4');\n",
              "          const dataTable =\n",
              "            await google.colab.kernel.invokeFunction('convertToInteractive',\n",
              "                                                     [key], {});\n",
              "          if (!dataTable) return;\n",
              "\n",
              "          const docLinkHtml = 'Like what you see? Visit the ' +\n",
              "            '<a target=\"_blank\" href=https://colab.research.google.com/notebooks/data_table.ipynb>data table notebook</a>'\n",
              "            + ' to learn more about interactive tables.';\n",
              "          element.innerHTML = '';\n",
              "          dataTable['output_type'] = 'display_data';\n",
              "          await google.colab.output.renderOutput(dataTable, element);\n",
              "          const docLink = document.createElement('div');\n",
              "          docLink.innerHTML = docLinkHtml;\n",
              "          element.appendChild(docLink);\n",
              "        }\n",
              "      </script>\n",
              "    </div>\n",
              "  </div>\n",
              "  "
            ],
            "text/plain": [
              "  count(review_id)\n",
              "0           47.83%"
            ]
          },
          "execution_count": 17,
          "metadata": {},
          "output_type": "execute_result"
        }
      ],
      "source": [
        "# Percentage of non-Vine 5 star reviews\n",
        "df_unpaid_five_star = df_vine_n.filter(df_vine_n['star_rating']==5)\n",
        "pd_unpaid = df_unpaid_five_star.toPandas().count()\n",
        "pd_unpaid_pct = pd_unpaid['review_id']/pd_reviews\n",
        "pd_unpaid_pct.loc[:, \"count(review_id)\"] = pd_unpaid_pct[\"count(review_id)\"].map('{:.2%}'.format)\n",
        "pd_unpaid_pct.head()"
      ]
    },
    {
      "cell_type": "code",
      "execution_count": 18,
      "metadata": {
        "colab": {
          "base_uri": "https://localhost:8080/"
        },
        "id": "O8CCPApJOaCE",
        "outputId": "cacabc67-e362-4005-d100-6d7fe208829b"
      },
      "outputs": [
        {
          "name": "stdout",
          "output_type": "stream",
          "text": [
            "+----------------+\n",
            "|count(review_id)|\n",
            "+----------------+\n",
            "|           44104|\n",
            "+----------------+\n",
            "\n"
          ]
        }
      ],
      "source": [
        "# Number of non-Vine reviews that are 5 stars\n",
        "count_unpaid_five = df_unpaid_five_star.agg({'review_id':'count'})\n",
        "count_unpaid_five.show()"
      ]
    }
  ],
  "metadata": {
    "colab": {
      "provenance": []
    },
    "kernelspec": {
      "display_name": "Python 3",
      "name": "python3"
    },
    "language_info": {
      "name": "python"
    }
  },
  "nbformat": 4,
  "nbformat_minor": 0
}
